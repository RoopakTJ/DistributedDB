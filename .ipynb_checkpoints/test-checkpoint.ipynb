{
 "cells": [
  {
   "cell_type": "markdown",
   "metadata": {},
   "source": [
    "# FIT5148 - Distributed Databases and Big Data\n",
    "\n",
    "# Group Assignment - Part A and B #\n",
    "\n",
    "**Your Details:**\n",
    "- Name: Roopak Thiyyathuparambil Jayachandran\n",
    "- StudentID: 29567467\n",
    "- Email: rthi0002@student.monash.edu\n",
    "\n",
    "## Introduction \n",
    "\n",
    "StopFire is a campaign started by Monash University to predict and stop the fire in\n",
    "Victorian cities. They have employed sensors in different cities of Victoria and have\n",
    "collected a large amount of data. The data is so big that their techniques have failed to\n",
    "provide the results on time to predict fire. They have hired us as the data analyst to\n",
    "migrate their data to the NoSQL database (MongoDB). They want us to analyse their data\n",
    "and provide them with results. In addition, they want us to build an application, a\n",
    "complete setup from streaming to storing and analyzing the data for them using Apache\n",
    "Kafka, Apache Spark Streaming and MongoDB."
   ]
  },
  {
   "cell_type": "markdown",
   "metadata": {},
   "source": [
    "## Methodology ##\n",
    "Assignment consists of 3 parts:\n",
    " * Identification of a suitable data model considering the given dataset\n",
    " * Data migration from structured dataset(csv) to NoSQL dataset(MongoDB). This part also involves solving of some questions related to the data\n",
    " * Create a standalone application involving data streaming, storing, analyzing and visualization.\n",
    " "
   ]
  },
  {
   "cell_type": "markdown",
   "metadata": {},
   "source": [
    "### Given Dataset for data migration ###\n",
    " * hotspot_historic.csv\n",
    " * climate_historic.csv"
   ]
  },
  {
   "cell_type": "markdown",
   "metadata": {},
   "source": [
    "### Exploring datasets ###\n",
    "Hotspot historic : The hotspot historic dataset contains data related to demographics of a place and surface temperature along with confidence on a particular time. \n",
    "\n",
    "Total number of rows : 2668\n",
    "Total number of columns : 6\n",
    "\n",
    "On exploration it was found that the date range varies from 3rd May 2017 to 27th December 2017 with each day having multiple records. Also on further exploration it was found that there are 145 unique dates for which data has been recorded."
   ]
  },
  {
   "cell_type": "code",
   "execution_count": 2,
   "metadata": {},
   "outputs": [],
   "source": [
    "import pandas as pd"
   ]
  },
  {
   "cell_type": "code",
   "execution_count": 9,
   "metadata": {},
   "outputs": [],
   "source": [
    "historic = pd.read_csv(\"hotspot_historic.csv\")"
   ]
  },
  {
   "cell_type": "code",
   "execution_count": 10,
   "metadata": {},
   "outputs": [
    {
     "data": {
      "text/html": [
       "<div>\n",
       "<style scoped>\n",
       "    .dataframe tbody tr th:only-of-type {\n",
       "        vertical-align: middle;\n",
       "    }\n",
       "\n",
       "    .dataframe tbody tr th {\n",
       "        vertical-align: top;\n",
       "    }\n",
       "\n",
       "    .dataframe thead th {\n",
       "        text-align: right;\n",
       "    }\n",
       "</style>\n",
       "<table border=\"1\" class=\"dataframe\">\n",
       "  <thead>\n",
       "    <tr style=\"text-align: right;\">\n",
       "      <th></th>\n",
       "      <th>latitude</th>\n",
       "      <th>longitude</th>\n",
       "      <th>datetime</th>\n",
       "      <th>confidence</th>\n",
       "      <th>date</th>\n",
       "      <th>surface_temperature_celcius</th>\n",
       "    </tr>\n",
       "  </thead>\n",
       "  <tbody>\n",
       "    <tr>\n",
       "      <th>0</th>\n",
       "      <td>-37.966</td>\n",
       "      <td>145.051</td>\n",
       "      <td>2017-12-27T04:16:51</td>\n",
       "      <td>78</td>\n",
       "      <td>27/12/2017</td>\n",
       "      <td>68</td>\n",
       "    </tr>\n",
       "    <tr>\n",
       "      <th>1</th>\n",
       "      <td>-35.541</td>\n",
       "      <td>143.311</td>\n",
       "      <td>2017-12-27T00:02:15</td>\n",
       "      <td>82</td>\n",
       "      <td>27/12/2017</td>\n",
       "      <td>63</td>\n",
       "    </tr>\n",
       "    <tr>\n",
       "      <th>2</th>\n",
       "      <td>-35.554</td>\n",
       "      <td>143.307</td>\n",
       "      <td>2017-12-27T00:02:15</td>\n",
       "      <td>67</td>\n",
       "      <td>27/12/2017</td>\n",
       "      <td>53</td>\n",
       "    </tr>\n",
       "    <tr>\n",
       "      <th>3</th>\n",
       "      <td>-35.543</td>\n",
       "      <td>143.316</td>\n",
       "      <td>2017-12-27T00:02:14</td>\n",
       "      <td>86</td>\n",
       "      <td>27/12/2017</td>\n",
       "      <td>67</td>\n",
       "    </tr>\n",
       "    <tr>\n",
       "      <th>4</th>\n",
       "      <td>-37.708</td>\n",
       "      <td>145.100</td>\n",
       "      <td>2017-12-25T04:29:08</td>\n",
       "      <td>80</td>\n",
       "      <td>25/12/2017</td>\n",
       "      <td>54</td>\n",
       "    </tr>\n",
       "  </tbody>\n",
       "</table>\n",
       "</div>"
      ],
      "text/plain": [
       "   latitude  longitude             datetime  confidence        date  \\\n",
       "0   -37.966    145.051  2017-12-27T04:16:51          78  27/12/2017   \n",
       "1   -35.541    143.311  2017-12-27T00:02:15          82  27/12/2017   \n",
       "2   -35.554    143.307  2017-12-27T00:02:15          67  27/12/2017   \n",
       "3   -35.543    143.316  2017-12-27T00:02:14          86  27/12/2017   \n",
       "4   -37.708    145.100  2017-12-25T04:29:08          80  25/12/2017   \n",
       "\n",
       "   surface_temperature_celcius  \n",
       "0                           68  \n",
       "1                           63  \n",
       "2                           53  \n",
       "3                           67  \n",
       "4                           54  "
      ]
     },
     "execution_count": 10,
     "metadata": {},
     "output_type": "execute_result"
    }
   ],
   "source": [
    "historic.head()"
   ]
  },
  {
   "cell_type": "code",
   "execution_count": 12,
   "metadata": {},
   "outputs": [
    {
     "data": {
      "text/plain": [
       "145"
      ]
     },
     "execution_count": 12,
     "metadata": {},
     "output_type": "execute_result"
    }
   ],
   "source": [
    "len(historic[\"date\"].unique())"
   ]
  },
  {
   "cell_type": "code",
   "execution_count": 14,
   "metadata": {},
   "outputs": [
    {
     "data": {
      "text/plain": [
       "latitude                       float64\n",
       "longitude                      float64\n",
       "datetime                        object\n",
       "confidence                       int64\n",
       "date                            object\n",
       "surface_temperature_celcius      int64\n",
       "dtype: object"
      ]
     },
     "execution_count": 14,
     "metadata": {},
     "output_type": "execute_result"
    }
   ],
   "source": [
    "historic.dtypes"
   ]
  },
  {
   "cell_type": "markdown",
   "metadata": {},
   "source": [
    "### Climate historic dataset : ###\n",
    "The climate historic dataset contains data related to station, air temperature, relative humidity, windspeed knots, max wind speed and precipitation of a place on a particular date.\n",
    "Total number of rows : 366\n",
    "Total number of columns : 7\n",
    "\n",
    "On exploration it was found that the date range varies from 31st December 2016 to 1st January 2018 with each day having single record."
   ]
  },
  {
   "cell_type": "code",
   "execution_count": 15,
   "metadata": {},
   "outputs": [],
   "source": [
    "climate = pd.read_csv(\"climate_historic.csv\")"
   ]
  },
  {
   "cell_type": "code",
   "execution_count": 16,
   "metadata": {},
   "outputs": [
    {
     "data": {
      "text/plain": [
       "(366, 7)"
      ]
     },
     "execution_count": 16,
     "metadata": {},
     "output_type": "execute_result"
    }
   ],
   "source": [
    "climate.shape"
   ]
  },
  {
   "cell_type": "code",
   "execution_count": 20,
   "metadata": {},
   "outputs": [
    {
     "data": {
      "text/html": [
       "<div>\n",
       "<style scoped>\n",
       "    .dataframe tbody tr th:only-of-type {\n",
       "        vertical-align: middle;\n",
       "    }\n",
       "\n",
       "    .dataframe tbody tr th {\n",
       "        vertical-align: top;\n",
       "    }\n",
       "\n",
       "    .dataframe thead th {\n",
       "        text-align: right;\n",
       "    }\n",
       "</style>\n",
       "<table border=\"1\" class=\"dataframe\">\n",
       "  <thead>\n",
       "    <tr style=\"text-align: right;\">\n",
       "      <th></th>\n",
       "      <th>station</th>\n",
       "      <th>date</th>\n",
       "      <th>air_temperature_celcius</th>\n",
       "      <th>relative_humidity</th>\n",
       "      <th>windspeed_knots</th>\n",
       "      <th>max_wind_speed</th>\n",
       "      <th>precipitation</th>\n",
       "    </tr>\n",
       "  </thead>\n",
       "  <tbody>\n",
       "    <tr>\n",
       "      <th>0</th>\n",
       "      <td>948700</td>\n",
       "      <td>31/12/2016</td>\n",
       "      <td>19</td>\n",
       "      <td>56.8</td>\n",
       "      <td>7.9</td>\n",
       "      <td>11.1</td>\n",
       "      <td>0.00I</td>\n",
       "    </tr>\n",
       "    <tr>\n",
       "      <th>1</th>\n",
       "      <td>948700</td>\n",
       "      <td>2/01/2017</td>\n",
       "      <td>15</td>\n",
       "      <td>50.7</td>\n",
       "      <td>9.2</td>\n",
       "      <td>13.0</td>\n",
       "      <td>0.02G</td>\n",
       "    </tr>\n",
       "    <tr>\n",
       "      <th>2</th>\n",
       "      <td>948700</td>\n",
       "      <td>3/01/2017</td>\n",
       "      <td>16</td>\n",
       "      <td>53.6</td>\n",
       "      <td>8.1</td>\n",
       "      <td>15.0</td>\n",
       "      <td>0.00G</td>\n",
       "    </tr>\n",
       "    <tr>\n",
       "      <th>3</th>\n",
       "      <td>948700</td>\n",
       "      <td>4/01/2017</td>\n",
       "      <td>24</td>\n",
       "      <td>61.6</td>\n",
       "      <td>7.7</td>\n",
       "      <td>14.0</td>\n",
       "      <td>0.00I</td>\n",
       "    </tr>\n",
       "    <tr>\n",
       "      <th>4</th>\n",
       "      <td>948700</td>\n",
       "      <td>5/01/2017</td>\n",
       "      <td>24</td>\n",
       "      <td>62.3</td>\n",
       "      <td>7.0</td>\n",
       "      <td>13.0</td>\n",
       "      <td>0.00I</td>\n",
       "    </tr>\n",
       "  </tbody>\n",
       "</table>\n",
       "</div>"
      ],
      "text/plain": [
       "   station        date  air_temperature_celcius  relative_humidity  \\\n",
       "0   948700  31/12/2016                       19               56.8   \n",
       "1   948700   2/01/2017                       15               50.7   \n",
       "2   948700   3/01/2017                       16               53.6   \n",
       "3   948700   4/01/2017                       24               61.6   \n",
       "4   948700   5/01/2017                       24               62.3   \n",
       "\n",
       "   windspeed_knots  max_wind_speed precipitation   \n",
       "0              7.9            11.1          0.00I  \n",
       "1              9.2            13.0          0.02G  \n",
       "2              8.1            15.0          0.00G  \n",
       "3              7.7            14.0          0.00I  \n",
       "4              7.0            13.0          0.00I  "
      ]
     },
     "execution_count": 20,
     "metadata": {},
     "output_type": "execute_result"
    }
   ],
   "source": [
    "climate.head()"
   ]
  },
  {
   "cell_type": "code",
   "execution_count": 21,
   "metadata": {},
   "outputs": [
    {
     "data": {
      "text/plain": [
       "station                      int64\n",
       "date                        object\n",
       "air_temperature_celcius      int64\n",
       "relative_humidity          float64\n",
       "windspeed_knots            float64\n",
       "max_wind_speed             float64\n",
       "precipitation               object\n",
       "dtype: object"
      ]
     },
     "execution_count": 21,
     "metadata": {},
     "output_type": "execute_result"
    }
   ],
   "source": [
    "climate.dtypes"
   ]
  },
  {
   "cell_type": "markdown",
   "metadata": {},
   "source": [
    "## Data model proposal ##\n",
    "\n",
    "After exploring both the dataset, it was identified that **date** is the common column between both the tables. And also each row in climate historic datset relates to multiple rows in hotspot historic dataset.\n",
    "So the proposed data model BSON, will have climate historic as the outer dictionary, with a list of hotspot values as a value to one of the key named hotspots. Following is an example of a document from the proposed data model.\n"
   ]
  },
  {
   "cell_type": "code",
   "execution_count": null,
   "metadata": {},
   "outputs": [],
   "source": []
  },
  {
   "cell_type": "code",
   "execution_count": null,
   "metadata": {},
   "outputs": [],
   "source": []
  },
  {
   "cell_type": "code",
   "execution_count": 3,
   "metadata": {},
   "outputs": [],
   "source": [
    "historic = pd.read_csv(\"hotspot_historic.csv\")"
   ]
  },
  {
   "cell_type": "code",
   "execution_count": 8,
   "metadata": {},
   "outputs": [
    {
     "data": {
      "text/plain": [
       "145"
      ]
     },
     "execution_count": 8,
     "metadata": {},
     "output_type": "execute_result"
    }
   ],
   "source": [
    "len(historic[\"date\"].unique())"
   ]
  },
  {
   "cell_type": "code",
   "execution_count": 16,
   "metadata": {},
   "outputs": [],
   "source": [
    "a = historic[historic[\"date\"] == \"27/12/2017\"]"
   ]
  },
  {
   "cell_type": "code",
   "execution_count": 18,
   "metadata": {},
   "outputs": [
    {
     "data": {
      "text/html": [
       "<div>\n",
       "<style scoped>\n",
       "    .dataframe tbody tr th:only-of-type {\n",
       "        vertical-align: middle;\n",
       "    }\n",
       "\n",
       "    .dataframe tbody tr th {\n",
       "        vertical-align: top;\n",
       "    }\n",
       "\n",
       "    .dataframe thead th {\n",
       "        text-align: right;\n",
       "    }\n",
       "</style>\n",
       "<table border=\"1\" class=\"dataframe\">\n",
       "  <thead>\n",
       "    <tr style=\"text-align: right;\">\n",
       "      <th></th>\n",
       "      <th>latitude</th>\n",
       "      <th>longitude</th>\n",
       "      <th>datetime</th>\n",
       "      <th>confidence</th>\n",
       "      <th>date</th>\n",
       "      <th>surface_temperature_celcius</th>\n",
       "    </tr>\n",
       "  </thead>\n",
       "  <tbody>\n",
       "    <tr>\n",
       "      <th>0</th>\n",
       "      <td>-37.966</td>\n",
       "      <td>145.051</td>\n",
       "      <td>2017-12-27T04:16:51</td>\n",
       "      <td>78</td>\n",
       "      <td>27/12/2017</td>\n",
       "      <td>68</td>\n",
       "    </tr>\n",
       "    <tr>\n",
       "      <th>1</th>\n",
       "      <td>-35.541</td>\n",
       "      <td>143.311</td>\n",
       "      <td>2017-12-27T00:02:15</td>\n",
       "      <td>82</td>\n",
       "      <td>27/12/2017</td>\n",
       "      <td>63</td>\n",
       "    </tr>\n",
       "    <tr>\n",
       "      <th>2</th>\n",
       "      <td>-35.554</td>\n",
       "      <td>143.307</td>\n",
       "      <td>2017-12-27T00:02:15</td>\n",
       "      <td>67</td>\n",
       "      <td>27/12/2017</td>\n",
       "      <td>53</td>\n",
       "    </tr>\n",
       "    <tr>\n",
       "      <th>3</th>\n",
       "      <td>-35.543</td>\n",
       "      <td>143.316</td>\n",
       "      <td>2017-12-27T00:02:14</td>\n",
       "      <td>86</td>\n",
       "      <td>27/12/2017</td>\n",
       "      <td>67</td>\n",
       "    </tr>\n",
       "  </tbody>\n",
       "</table>\n",
       "</div>"
      ],
      "text/plain": [
       "   latitude  longitude             datetime  confidence        date  \\\n",
       "0   -37.966    145.051  2017-12-27T04:16:51          78  27/12/2017   \n",
       "1   -35.541    143.311  2017-12-27T00:02:15          82  27/12/2017   \n",
       "2   -35.554    143.307  2017-12-27T00:02:15          67  27/12/2017   \n",
       "3   -35.543    143.316  2017-12-27T00:02:14          86  27/12/2017   \n",
       "\n",
       "   surface_temperature_celcius  \n",
       "0                           68  \n",
       "1                           63  \n",
       "2                           53  \n",
       "3                           67  "
      ]
     },
     "execution_count": 18,
     "metadata": {},
     "output_type": "execute_result"
    }
   ],
   "source": [
    "a.head()"
   ]
  },
  {
   "cell_type": "code",
   "execution_count": 43,
   "metadata": {},
   "outputs": [
    {
     "name": "stdout",
     "output_type": "stream",
     "text": [
      "<class 'pandas.core.frame.DataFrame'>\n",
      "<class 'pandas.core.frame.DataFrame'>\n",
      "<class 'pandas.core.frame.DataFrame'>\n",
      "<class 'pandas.core.frame.DataFrame'>\n",
      "<class 'pandas.core.frame.DataFrame'>\n"
     ]
    }
   ],
   "source": [
    "dic = {}\n",
    "innerdic = {}\n",
    "for index, row in climate.head().iterrows():\n",
    "    li = []\n",
    "    dic[\"date\"] = row[1] \n",
    "    a = historic[historic[\"date\"] == row[1]]\n",
    "    print(type(a))\n",
    "    for i, r in a.iterrows():\n",
    "        innerdic[\"latitude\"] = r[0]\n",
    "        innerdic[\"longitude\"] = r[1]\n",
    "        li.append(innerdic)\n",
    "    dic[\"his\"] = li\n",
    "    dic[\"station\"] = row[0]"
   ]
  },
  {
   "cell_type": "code",
   "execution_count": 37,
   "metadata": {},
   "outputs": [
    {
     "name": "stdout",
     "output_type": "stream",
     "text": [
      "{'date': '31/12/2016', 'his': [], 'station': 948700}\n"
     ]
    }
   ],
   "source": [
    "print(dic)"
   ]
  }
 ],
 "metadata": {
  "kernelspec": {
   "display_name": "Python 3",
   "language": "python",
   "name": "python3"
  },
  "language_info": {
   "codemirror_mode": {
    "name": "ipython",
    "version": 3
   },
   "file_extension": ".py",
   "mimetype": "text/x-python",
   "name": "python",
   "nbconvert_exporter": "python",
   "pygments_lexer": "ipython3",
   "version": "3.6.5"
  }
 },
 "nbformat": 4,
 "nbformat_minor": 2
}
